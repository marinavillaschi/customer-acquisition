{
 "cells": [
  {
   "cell_type": "markdown",
   "id": "799007ac-e459-4081-a7b0-5bdd727c5cd3",
   "metadata": {},
   "source": [
    "# Capstone Project: Create a Customer Segmentation Report for Arvato Financial Services"
   ]
  },
  {
   "cell_type": "code",
   "execution_count": 1,
   "id": "1b6cfca3-56dd-4768-bace-417a30dbca7d",
   "metadata": {},
   "outputs": [],
   "source": [
    "# setting random state for reproducibility\n",
    "random_state = 22\n",
    "\n",
    "# import libraries\n",
    "import numpy as np\n",
    "import pandas as pd\n",
    "import matplotlib.pyplot as plt\n",
    "import seaborn as sns\n",
    "\n",
    "from sklearn.preprocessing import Normalizer\n",
    "\n",
    "from kmodes.kmodes import KModes\n",
    "# from yellowbrick.cluster import kelbow_visualizer"
   ]
  },
  {
   "cell_type": "markdown",
   "id": "dec8b707-cd10-4750-8f34-df4b20fd827f",
   "metadata": {},
   "source": [
    "## Part 2: Customer Segmentation Report\n",
    "\n",
    "The main bulk of the analysis is in this part of the project. Here, I'll use unsupervised learning techniques to describe the relationship between the demographics of the company's existing customers and the general population of Germany. By the end of this part, I'll be able to describe parts of the general population that are more likely to be part of the mail-order company's main customer base, and which parts of the general population are less so."
   ]
  },
  {
   "cell_type": "code",
   "execution_count": 2,
   "id": "055e0d58-4de8-4371-b0ff-4609da807af6",
   "metadata": {},
   "outputs": [],
   "source": [
    "# load in the data\n",
    "azdias = pd.read_csv('data/clean_AZDIAS.csv')\n",
    "customers = pd.read_csv('data/clean_CUSTOMERS.csv')\n",
    "\n",
    "del azdias['Unnamed: 0']\n",
    "del customers['Unnamed: 0']"
   ]
  },
  {
   "cell_type": "code",
   "execution_count": 3,
   "id": "c53c5a82-3cfc-496e-b343-e64eb61b7759",
   "metadata": {},
   "outputs": [
    {
     "data": {
      "text/html": [
       "<div>\n",
       "<style scoped>\n",
       "    .dataframe tbody tr th:only-of-type {\n",
       "        vertical-align: middle;\n",
       "    }\n",
       "\n",
       "    .dataframe tbody tr th {\n",
       "        vertical-align: top;\n",
       "    }\n",
       "\n",
       "    .dataframe thead th {\n",
       "        text-align: right;\n",
       "    }\n",
       "</style>\n",
       "<table border=\"1\" class=\"dataframe\">\n",
       "  <thead>\n",
       "    <tr style=\"text-align: right;\">\n",
       "      <th></th>\n",
       "      <th>AGER_TYP</th>\n",
       "      <th>AKT_DAT_KL</th>\n",
       "      <th>ANZ_HAUSHALTE_AKTIV</th>\n",
       "      <th>ANZ_HH_TITEL</th>\n",
       "      <th>ANZ_KINDER</th>\n",
       "      <th>ANZ_PERSONEN</th>\n",
       "      <th>ANZ_TITEL</th>\n",
       "      <th>ARBEIT</th>\n",
       "      <th>BALLRAUM</th>\n",
       "      <th>CAMEO_DEUG_2015</th>\n",
       "      <th>...</th>\n",
       "      <th>VK_DHT4A</th>\n",
       "      <th>VK_DISTANZ</th>\n",
       "      <th>VK_ZG11</th>\n",
       "      <th>W_KEIT_KIND_HH</th>\n",
       "      <th>WOHNDAUER_2008</th>\n",
       "      <th>WOHNLAGE</th>\n",
       "      <th>ZABEOTYP</th>\n",
       "      <th>ANREDE_KZ</th>\n",
       "      <th>ALTERSKATEGORIE_GROB</th>\n",
       "      <th>PRAEGENDE_JUGENDJAHRE_MAINSTREAM</th>\n",
       "    </tr>\n",
       "  </thead>\n",
       "  <tbody>\n",
       "    <tr>\n",
       "      <th>0</th>\n",
       "      <td>2</td>\n",
       "      <td>1.0</td>\n",
       "      <td>1.0</td>\n",
       "      <td>0.0</td>\n",
       "      <td>0.0</td>\n",
       "      <td>3.0</td>\n",
       "      <td>0.0</td>\n",
       "      <td>4.0</td>\n",
       "      <td>-1.0</td>\n",
       "      <td>-1.0</td>\n",
       "      <td>...</td>\n",
       "      <td>2.0</td>\n",
       "      <td>3.0</td>\n",
       "      <td>3.0</td>\n",
       "      <td>2.0</td>\n",
       "      <td>9.0</td>\n",
       "      <td>-1.0</td>\n",
       "      <td>3</td>\n",
       "      <td>0</td>\n",
       "      <td>3</td>\n",
       "      <td>1</td>\n",
       "    </tr>\n",
       "    <tr>\n",
       "      <th>1</th>\n",
       "      <td>-1</td>\n",
       "      <td>5.0</td>\n",
       "      <td>1.0</td>\n",
       "      <td>0.0</td>\n",
       "      <td>0.0</td>\n",
       "      <td>1.0</td>\n",
       "      <td>0.0</td>\n",
       "      <td>3.0</td>\n",
       "      <td>5.0</td>\n",
       "      <td>3.0</td>\n",
       "      <td>...</td>\n",
       "      <td>6.0</td>\n",
       "      <td>7.0</td>\n",
       "      <td>4.0</td>\n",
       "      <td>6.0</td>\n",
       "      <td>4.0</td>\n",
       "      <td>7.0</td>\n",
       "      <td>3</td>\n",
       "      <td>1</td>\n",
       "      <td>4</td>\n",
       "      <td>0</td>\n",
       "    </tr>\n",
       "    <tr>\n",
       "      <th>2</th>\n",
       "      <td>-1</td>\n",
       "      <td>1.0</td>\n",
       "      <td>1.0</td>\n",
       "      <td>0.0</td>\n",
       "      <td>0.0</td>\n",
       "      <td>1.0</td>\n",
       "      <td>0.0</td>\n",
       "      <td>4.0</td>\n",
       "      <td>-1.0</td>\n",
       "      <td>-1.0</td>\n",
       "      <td>...</td>\n",
       "      <td>10.0</td>\n",
       "      <td>10.0</td>\n",
       "      <td>10.0</td>\n",
       "      <td>-1.0</td>\n",
       "      <td>-1.0</td>\n",
       "      <td>-1.0</td>\n",
       "      <td>3</td>\n",
       "      <td>0</td>\n",
       "      <td>3</td>\n",
       "      <td>0</td>\n",
       "    </tr>\n",
       "    <tr>\n",
       "      <th>3</th>\n",
       "      <td>-1</td>\n",
       "      <td>1.0</td>\n",
       "      <td>2.0</td>\n",
       "      <td>0.0</td>\n",
       "      <td>0.0</td>\n",
       "      <td>3.0</td>\n",
       "      <td>0.0</td>\n",
       "      <td>4.0</td>\n",
       "      <td>6.0</td>\n",
       "      <td>4.0</td>\n",
       "      <td>...</td>\n",
       "      <td>4.0</td>\n",
       "      <td>7.0</td>\n",
       "      <td>4.0</td>\n",
       "      <td>3.0</td>\n",
       "      <td>9.0</td>\n",
       "      <td>3.0</td>\n",
       "      <td>1</td>\n",
       "      <td>1</td>\n",
       "      <td>1</td>\n",
       "      <td>1</td>\n",
       "    </tr>\n",
       "    <tr>\n",
       "      <th>4</th>\n",
       "      <td>-1</td>\n",
       "      <td>1.0</td>\n",
       "      <td>12.0</td>\n",
       "      <td>0.0</td>\n",
       "      <td>1.0</td>\n",
       "      <td>0.0</td>\n",
       "      <td>0.0</td>\n",
       "      <td>4.0</td>\n",
       "      <td>4.0</td>\n",
       "      <td>8.0</td>\n",
       "      <td>...</td>\n",
       "      <td>6.0</td>\n",
       "      <td>9.0</td>\n",
       "      <td>10.0</td>\n",
       "      <td>-1.0</td>\n",
       "      <td>5.0</td>\n",
       "      <td>1.0</td>\n",
       "      <td>5</td>\n",
       "      <td>0</td>\n",
       "      <td>1</td>\n",
       "      <td>1</td>\n",
       "    </tr>\n",
       "  </tbody>\n",
       "</table>\n",
       "<p>5 rows × 309 columns</p>\n",
       "</div>"
      ],
      "text/plain": [
       "   AGER_TYP  AKT_DAT_KL  ANZ_HAUSHALTE_AKTIV  ANZ_HH_TITEL  ANZ_KINDER  \\\n",
       "0         2         1.0                  1.0           0.0         0.0   \n",
       "1        -1         5.0                  1.0           0.0         0.0   \n",
       "2        -1         1.0                  1.0           0.0         0.0   \n",
       "3        -1         1.0                  2.0           0.0         0.0   \n",
       "4        -1         1.0                 12.0           0.0         1.0   \n",
       "\n",
       "   ANZ_PERSONEN  ANZ_TITEL  ARBEIT  BALLRAUM  CAMEO_DEUG_2015  ...  VK_DHT4A  \\\n",
       "0           3.0        0.0     4.0      -1.0             -1.0  ...       2.0   \n",
       "1           1.0        0.0     3.0       5.0              3.0  ...       6.0   \n",
       "2           1.0        0.0     4.0      -1.0             -1.0  ...      10.0   \n",
       "3           3.0        0.0     4.0       6.0              4.0  ...       4.0   \n",
       "4           0.0        0.0     4.0       4.0              8.0  ...       6.0   \n",
       "\n",
       "   VK_DISTANZ  VK_ZG11  W_KEIT_KIND_HH  WOHNDAUER_2008  WOHNLAGE  ZABEOTYP  \\\n",
       "0         3.0      3.0             2.0             9.0      -1.0         3   \n",
       "1         7.0      4.0             6.0             4.0       7.0         3   \n",
       "2        10.0     10.0            -1.0            -1.0      -1.0         3   \n",
       "3         7.0      4.0             3.0             9.0       3.0         1   \n",
       "4         9.0     10.0            -1.0             5.0       1.0         5   \n",
       "\n",
       "   ANREDE_KZ  ALTERSKATEGORIE_GROB  PRAEGENDE_JUGENDJAHRE_MAINSTREAM  \n",
       "0          0                     3                                 1  \n",
       "1          1                     4                                 0  \n",
       "2          0                     3                                 0  \n",
       "3          1                     1                                 1  \n",
       "4          0                     1                                 1  \n",
       "\n",
       "[5 rows x 309 columns]"
      ]
     },
     "execution_count": 3,
     "metadata": {},
     "output_type": "execute_result"
    }
   ],
   "source": [
    "azdias.head()"
   ]
  },
  {
   "cell_type": "markdown",
   "id": "4cbe9014-e0d0-402f-b1a1-8cd04650a264",
   "metadata": {},
   "source": [
    "### Data pre-processing: Scaling"
   ]
  },
  {
   "cell_type": "markdown",
   "id": "fd3d89b8-edc3-435a-b0ed-c7909f190307",
   "metadata": {},
   "source": [
    "Firstly, we'll perform a Normalization in data. "
   ]
  },
  {
   "cell_type": "code",
   "execution_count": 4,
   "id": "9102a6fe-b9ec-4d7c-be5e-7a7d4d4ecf61",
   "metadata": {},
   "outputs": [],
   "source": [
    "# # Scale datasets with Normalizer\n",
    "# scaler = Normalizer()\n",
    "# scaler.fit(azdias)\n",
    "\n",
    "# azdias_scaled = scaler.transform(azdias)\n",
    "# customers_scaled = scaler.transform(customers)"
   ]
  },
  {
   "cell_type": "code",
   "execution_count": null,
   "id": "b53dc91d-d39d-4f79-8029-daacd5b16a32",
   "metadata": {},
   "outputs": [],
   "source": []
  },
  {
   "cell_type": "code",
   "execution_count": null,
   "id": "8cdffdf9-b4d9-43fa-8872-83460d84f8b6",
   "metadata": {},
   "outputs": [],
   "source": []
  },
  {
   "cell_type": "code",
   "execution_count": null,
   "id": "5d77d56f-67da-4e79-a0ac-d58f69252ef9",
   "metadata": {},
   "outputs": [],
   "source": []
  },
  {
   "cell_type": "markdown",
   "id": "e4d7fb60-a854-4227-b4bf-8f407956ed19",
   "metadata": {},
   "source": [
    "### Modeling"
   ]
  },
  {
   "cell_type": "markdown",
   "id": "529da1df-9430-4f60-9887-cb7bdc49030d",
   "metadata": {},
   "source": [
    "Now it's time to start the modeling phase!\n",
    "\n",
    "Let's begin choosing the number of clusters to implement."
   ]
  },
  {
   "cell_type": "code",
   "execution_count": 4,
   "id": "58778c07-5582-4166-80ad-4cdc3dc0051a",
   "metadata": {},
   "outputs": [
    {
     "data": {
      "text/plain": [
       "array([[ 2.,  1.,  1., ...,  0.,  3.,  1.],\n",
       "       [-1.,  5.,  1., ...,  1.,  4.,  0.],\n",
       "       [-1.,  1.,  1., ...,  0.,  3.,  0.],\n",
       "       ...,\n",
       "       [-1.,  9., 23., ...,  1.,  1.,  1.],\n",
       "       [-1.,  9.,  1., ...,  1.,  4.,  0.],\n",
       "       [-1.,  9.,  2., ...,  1.,  3.,  1.]])"
      ]
     },
     "execution_count": 4,
     "metadata": {},
     "output_type": "execute_result"
    }
   ],
   "source": [
    "# Convert dataframe to matrix\n",
    "azdiasMatrix = azdias.loc[:, azdias.columns].to_numpy()\n",
    "azdiasMatrix"
   ]
  },
  {
   "cell_type": "code",
   "execution_count": 5,
   "id": "cf0710d1-2368-40f0-be70-bc2afda60cc4",
   "metadata": {},
   "outputs": [],
   "source": [
    "model_1 = KModes(random_state=random_state)"
   ]
  },
  {
   "cell_type": "code",
   "execution_count": null,
   "id": "6f3f24d1-8ee0-4b4c-a520-369287c6d04a",
   "metadata": {},
   "outputs": [],
   "source": [
    "model_1.fit_predict(azdiasMatrix)"
   ]
  },
  {
   "cell_type": "code",
   "execution_count": null,
   "id": "9fb85de0-6c55-4139-9628-4847094f5381",
   "metadata": {},
   "outputs": [],
   "source": []
  },
  {
   "cell_type": "code",
   "execution_count": null,
   "id": "0f8f394e-abca-473e-9a6c-e451384e4305",
   "metadata": {},
   "outputs": [],
   "source": []
  },
  {
   "cell_type": "code",
   "execution_count": null,
   "id": "1cbd3385-943b-44ff-ba54-373bafa7a9eb",
   "metadata": {},
   "outputs": [],
   "source": [
    "# Choosing optimal K\n",
    "cost = []\n",
    "for cluster in range(1, 10):\n",
    "    try:\n",
    "        kmodes = KModes(n_jobs = -1, n_clusters = cluster, init = 'Huang', random_state = random_state)\n",
    "        kmodes.fit_predict(azdiasMatrix)\n",
    "        cost.append(kmodes.cost_)\n",
    "        print('Cluster initiation: {}'.format(cluster))\n",
    "    except:\n",
    "        break\n",
    "        \n",
    "# Converting the results into a dataframe and plotting them\n",
    "df_cost = pd.DataFrame({'Cluster': range(1, 10), 'Cost': cost})\n",
    "df_cost"
   ]
  },
  {
   "cell_type": "code",
   "execution_count": null,
   "id": "441312fd-d7c4-4a4c-ad37-e5d21c1e3308",
   "metadata": {},
   "outputs": [],
   "source": [
    "fig, ax = plt.subplots(figsize=(8,5))\n",
    "plt.plot(df_cost['Cluster'], df_cost['Cost'], linestyle='--', marker='o')\n",
    "plt.xlabel('number of clusters')\n",
    "plt.ylabel('cost')\n",
    "plt.title('Optimal number of cluster with Elbow Method')"
   ]
  },
  {
   "cell_type": "code",
   "execution_count": null,
   "id": "20c2b408-6e13-4402-918a-e06ca4f8fc46",
   "metadata": {},
   "outputs": [],
   "source": [
    "# sse = {}\n",
    "# for k in range(2, 10):\n",
    "#     kmodes = KModes(random_state=random_state).fit(azdias)\n",
    "#     sse[k] = kmodes.cost_ # Inertia: Soma das distâncias das amostras até o centro do cluster mais próximo\n",
    "# plt.figure()\n",
    "# plt.plot(list(sse.keys()), list(sse.values()))\n",
    "# plt.xlabel(\"Number of clusters\")\n",
    "# plt.ylabel(\"cost\")\n",
    "# plt.show()"
   ]
  },
  {
   "cell_type": "code",
   "execution_count": 7,
   "id": "00e573f9-8d24-4b7f-846b-0f3714625d77",
   "metadata": {},
   "outputs": [],
   "source": [
    "# # Elbow quick Method para K means\n",
    "# visualizer_1 = kelbow_visualizer(model_1, azdias, k=(2,10))"
   ]
  },
  {
   "cell_type": "code",
   "execution_count": null,
   "id": "5851e289-e51d-4f66-937a-09605616dc78",
   "metadata": {},
   "outputs": [],
   "source": []
  }
 ],
 "metadata": {
  "kernelspec": {
   "display_name": "Python 3",
   "language": "python",
   "name": "python3"
  },
  "language_info": {
   "codemirror_mode": {
    "name": "ipython",
    "version": 3
   },
   "file_extension": ".py",
   "mimetype": "text/x-python",
   "name": "python",
   "nbconvert_exporter": "python",
   "pygments_lexer": "ipython3",
   "version": "3.8.8"
  }
 },
 "nbformat": 4,
 "nbformat_minor": 5
}
